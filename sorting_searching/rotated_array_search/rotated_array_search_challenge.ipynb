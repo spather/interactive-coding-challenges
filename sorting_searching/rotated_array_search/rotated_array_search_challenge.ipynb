{
 "cells": [
  {
   "cell_type": "markdown",
   "metadata": {},
   "source": [
    "This notebook was prepared by [Donne Martin](https://github.com/donnemartin). Source and license info is on [GitHub](https://github.com/donnemartin/interactive-coding-challenges)."
   ]
  },
  {
   "cell_type": "markdown",
   "metadata": {},
   "source": [
    "# Challenge Notebook"
   ]
  },
  {
   "cell_type": "markdown",
   "metadata": {},
   "source": [
    "## Problem: Find an element in a sorted array that has been rotated a number of times.\n",
    "\n",
    "* [Constraints](#Constraints)\n",
    "* [Test Cases](#Test-Cases)\n",
    "* [Algorithm](#Algorithm)\n",
    "* [Code](#Code)\n",
    "* [Unit Test](#Unit-Test)\n",
    "* [Solution Notebook](#Solution-Notebook)"
   ]
  },
  {
   "cell_type": "markdown",
   "metadata": {},
   "source": [
    "## Constraints\n",
    "\n",
    "* Is the input an array of ints?\n",
    "    * Yes\n",
    "* Do we know how many times the array was rotated?\n",
    "    * No\n",
    "* Was the array originally sorted in increasing or decreasing order?\n",
    "    * Increasing\n",
    "* For the output, do we return the index?\n",
    "    * Yes\n",
    "* Can we assume the inputs are valid?\n",
    "    * No\n",
    "* Can we assume this fits memory?\n",
    "    * Yes"
   ]
  },
  {
   "cell_type": "markdown",
   "metadata": {},
   "source": [
    "## Test Cases\n",
    "\n",
    "* None -> Exception\n",
    "* [] -> None\n",
    "* Not found -> None\n",
    "* General case with duplicates\n",
    "* General case without duplicates"
   ]
  },
  {
   "cell_type": "markdown",
   "metadata": {},
   "source": [
    "## Algorithm\n",
    "\n",
    "Refer to the [Solution Notebook](http://nbviewer.jupyter.org/github/donnemartin/interactive-coding-challenges/blob/master/sorting_searching/rotated_array_search/rotated_array_search_solution.ipynb).  If you are stuck and need a hint, the solution notebook's algorithm discussion might be a good place to start."
   ]
  },
  {
   "cell_type": "markdown",
   "metadata": {},
   "source": [
    "## Code"
   ]
  },
  {
   "cell_type": "code",
   "execution_count": 53,
   "metadata": {},
   "outputs": [],
   "source": [
    "from math import floor\n",
    "\n",
    "class Impl2(object):\n",
    "    \n",
    "    def binary_search(self, array, begin, end, comparator):\n",
    "        if begin == end:\n",
    "            return begin if comparator(array, begin) == 0 else None \n",
    "\n",
    "        mid = begin + floor((end - begin + 1) / 2)\n",
    "        if comparator(array, mid) == 0:\n",
    "            return mid\n",
    "        if comparator(array, mid) < 0: \n",
    "            return self.binary_search(array, begin, mid - 1, comparator)\n",
    "        return self.binary_search(array, mid+1, end, comparator)\n",
    "        \n",
    "    def search_sorted_array(self, array, val):\n",
    "        if array is None:\n",
    "            raise TypeError(\"array can't be None\")\n",
    "        if len(array) == 0:\n",
    "            return None\n",
    "        \n",
    "        start_comparator = lambda arr, idx: 0 if (idx == 0 and arr[idx] <= arr[-1]) or (idx > 0 and arr[idx] < arr[idx - 1]) else -1 if arr[idx] < arr[-1] else 1\n",
    "\n",
    "        start = self.binary_search(array, 0, len(array) - 1, start_comparator)\n",
    "        \n",
    "        comparator = lambda arr, idx: 0 if arr[idx] == val else -1 if val < arr[idx] else 1\n",
    "        begin = None\n",
    "        end = None\n",
    "        if array[start] <= val:\n",
    "            begin = start\n",
    "            end = len(array) - 1\n",
    "        else: \n",
    "            begin = 0\n",
    "            end = start -1\n",
    "            \n",
    "        if end < begin: \n",
    "            return None\n",
    "        \n",
    "        return self.binary_search(array, begin, end, comparator)\n",
    "    \n",
    "\n",
    "class Impl1(object):\n",
    "    \n",
    "    def real_index(self, start, length, vindex):\n",
    "        return (start + vindex) % length\n",
    "\n",
    "    def binary_search(self, array, idx, begin, end, val):\n",
    "        print(\"binary_search(...{}, {})\".format(begin, end))\n",
    "        if end - begin == 0:\n",
    "            print(\"In base case, array[idx(begin)] is {}\".format(array[idx(begin)]))\n",
    "            if array[idx(begin)] == val:\n",
    "                print(\"In base case, returning {}\".format(idx(begin)))\n",
    "                return idx(begin)\n",
    "            else:\n",
    "                print(\"Returning None\")\n",
    "                return None\n",
    "        \n",
    "        mid = begin + floor((end - begin + 1) / 2)\n",
    "        if val == array[idx(mid)]:\n",
    "            return idx(mid)\n",
    "        if val < array[idx(mid)]:\n",
    "            return self.binary_search(array, idx, begin, mid - 1, val)\n",
    "        return self.binary_search(array, idx, mid+1, end, val)\n",
    "        \n",
    "    def search_sorted_array(self, array, val):\n",
    "        if array is None:\n",
    "            raise TypeError(\"array can't be None\")\n",
    "        if len(array) == 0:\n",
    "            return None\n",
    "        \n",
    "        # find the start\n",
    "        start = 0\n",
    "        for i in range(1, len(array)):\n",
    "            if array[i] < array[i-1]:\n",
    "                start = i\n",
    "                break\n",
    "        \n",
    "        # binary search (in vindexes)\n",
    "        idx = lambda vindex : self.real_index(start, len(array), vindex)\n",
    "        return self.binary_search(array, idx, 0, len(array) - 1, val)\n",
    "        \n",
    "        \n",
    "class Array(object):\n",
    "    def search_sorted_array(self, array, val):\n",
    "        #return Impl1().search_sorted_array(array, val)\n",
    "        return Impl2().search_sorted_array(array, val)\n",
    "            \n",
    "        \n",
    "        \n",
    "                "
   ]
  },
  {
   "cell_type": "markdown",
   "metadata": {},
   "source": [
    "## Unit Test"
   ]
  },
  {
   "cell_type": "markdown",
   "metadata": {},
   "source": [
    "**The following unit test is expected to fail until you solve the challenge.**"
   ]
  },
  {
   "cell_type": "code",
   "execution_count": 54,
   "metadata": {},
   "outputs": [
    {
     "ename": "TypeError",
     "evalue": "list indices must be integers or slices, not NoneType",
     "output_type": "error",
     "traceback": [
      "\u001b[0;31m---------------------------------------------------------------------------\u001b[0m",
      "\u001b[0;31mTypeError\u001b[0m                                 Traceback (most recent call last)",
      "\u001b[0;32m/var/folders/z_/2myvzd8j2mn4pbc54x49l6z00000gn/T/ipykernel_53198/1828431348.py\u001b[0m in \u001b[0;36m<module>\u001b[0;34m\u001b[0m\n\u001b[1;32m     23\u001b[0m \u001b[0;34m\u001b[0m\u001b[0m\n\u001b[1;32m     24\u001b[0m \u001b[0;32mif\u001b[0m \u001b[0m__name__\u001b[0m \u001b[0;34m==\u001b[0m \u001b[0;34m'__main__'\u001b[0m\u001b[0;34m:\u001b[0m\u001b[0;34m\u001b[0m\u001b[0;34m\u001b[0m\u001b[0m\n\u001b[0;32m---> 25\u001b[0;31m     \u001b[0mmain\u001b[0m\u001b[0;34m(\u001b[0m\u001b[0;34m)\u001b[0m\u001b[0;34m\u001b[0m\u001b[0;34m\u001b[0m\u001b[0m\n\u001b[0m",
      "\u001b[0;32m/var/folders/z_/2myvzd8j2mn4pbc54x49l6z00000gn/T/ipykernel_53198/1828431348.py\u001b[0m in \u001b[0;36mmain\u001b[0;34m()\u001b[0m\n\u001b[1;32m     19\u001b[0m \u001b[0;32mdef\u001b[0m \u001b[0mmain\u001b[0m\u001b[0;34m(\u001b[0m\u001b[0;34m)\u001b[0m\u001b[0;34m:\u001b[0m\u001b[0;34m\u001b[0m\u001b[0;34m\u001b[0m\u001b[0m\n\u001b[1;32m     20\u001b[0m     \u001b[0mtest\u001b[0m \u001b[0;34m=\u001b[0m \u001b[0mTestArray\u001b[0m\u001b[0;34m(\u001b[0m\u001b[0;34m)\u001b[0m\u001b[0;34m\u001b[0m\u001b[0;34m\u001b[0m\u001b[0m\n\u001b[0;32m---> 21\u001b[0;31m     \u001b[0mtest\u001b[0m\u001b[0;34m.\u001b[0m\u001b[0mtest_search_sorted_array\u001b[0m\u001b[0;34m(\u001b[0m\u001b[0;34m)\u001b[0m\u001b[0;34m\u001b[0m\u001b[0;34m\u001b[0m\u001b[0m\n\u001b[0m\u001b[1;32m     22\u001b[0m \u001b[0;34m\u001b[0m\u001b[0m\n\u001b[1;32m     23\u001b[0m \u001b[0;34m\u001b[0m\u001b[0m\n",
      "\u001b[0;32m/var/folders/z_/2myvzd8j2mn4pbc54x49l6z00000gn/T/ipykernel_53198/1828431348.py\u001b[0m in \u001b[0;36mtest_search_sorted_array\u001b[0;34m(self)\u001b[0m\n\u001b[1;32m     13\u001b[0m         \u001b[0mself\u001b[0m\u001b[0;34m.\u001b[0m\u001b[0massertEqual\u001b[0m\u001b[0;34m(\u001b[0m\u001b[0marray\u001b[0m\u001b[0;34m.\u001b[0m\u001b[0msearch_sorted_array\u001b[0m\u001b[0;34m(\u001b[0m\u001b[0mdata\u001b[0m\u001b[0;34m,\u001b[0m \u001b[0mval\u001b[0m\u001b[0;34m=\u001b[0m\u001b[0;36m1\u001b[0m\u001b[0;34m)\u001b[0m\u001b[0;34m,\u001b[0m \u001b[0;36m3\u001b[0m\u001b[0;34m)\u001b[0m\u001b[0;34m\u001b[0m\u001b[0;34m\u001b[0m\u001b[0m\n\u001b[1;32m     14\u001b[0m         \u001b[0mdata\u001b[0m \u001b[0;34m=\u001b[0m \u001b[0;34m[\u001b[0m \u001b[0;36m1\u001b[0m\u001b[0;34m,\u001b[0m  \u001b[0;36m1\u001b[0m\u001b[0;34m,\u001b[0m  \u001b[0;36m2\u001b[0m\u001b[0;34m,\u001b[0m  \u001b[0;36m1\u001b[0m\u001b[0;34m,\u001b[0m  \u001b[0;36m1\u001b[0m\u001b[0;34m,\u001b[0m  \u001b[0;36m1\u001b[0m\u001b[0;34m,\u001b[0m  \u001b[0;36m1\u001b[0m\u001b[0;34m,\u001b[0m  \u001b[0;36m1\u001b[0m\u001b[0;34m,\u001b[0m  \u001b[0;36m1\u001b[0m\u001b[0;34m,\u001b[0m  \u001b[0;36m1\u001b[0m\u001b[0;34m]\u001b[0m\u001b[0;34m\u001b[0m\u001b[0;34m\u001b[0m\u001b[0m\n\u001b[0;32m---> 15\u001b[0;31m         \u001b[0mself\u001b[0m\u001b[0;34m.\u001b[0m\u001b[0massertEqual\u001b[0m\u001b[0;34m(\u001b[0m\u001b[0marray\u001b[0m\u001b[0;34m.\u001b[0m\u001b[0msearch_sorted_array\u001b[0m\u001b[0;34m(\u001b[0m\u001b[0mdata\u001b[0m\u001b[0;34m,\u001b[0m \u001b[0mval\u001b[0m\u001b[0;34m=\u001b[0m\u001b[0;36m2\u001b[0m\u001b[0;34m)\u001b[0m\u001b[0;34m,\u001b[0m \u001b[0;36m2\u001b[0m\u001b[0;34m)\u001b[0m\u001b[0;34m\u001b[0m\u001b[0;34m\u001b[0m\u001b[0m\n\u001b[0m\u001b[1;32m     16\u001b[0m         \u001b[0mprint\u001b[0m\u001b[0;34m(\u001b[0m\u001b[0;34m'Success: test_search_sorted_array'\u001b[0m\u001b[0;34m)\u001b[0m\u001b[0;34m\u001b[0m\u001b[0;34m\u001b[0m\u001b[0m\n\u001b[1;32m     17\u001b[0m \u001b[0;34m\u001b[0m\u001b[0m\n",
      "\u001b[0;32m/var/folders/z_/2myvzd8j2mn4pbc54x49l6z00000gn/T/ipykernel_53198/2085785146.py\u001b[0m in \u001b[0;36msearch_sorted_array\u001b[0;34m(self, array, val)\u001b[0m\n\u001b[1;32m     84\u001b[0m     \u001b[0;32mdef\u001b[0m \u001b[0msearch_sorted_array\u001b[0m\u001b[0;34m(\u001b[0m\u001b[0mself\u001b[0m\u001b[0;34m,\u001b[0m \u001b[0marray\u001b[0m\u001b[0;34m,\u001b[0m \u001b[0mval\u001b[0m\u001b[0;34m)\u001b[0m\u001b[0;34m:\u001b[0m\u001b[0;34m\u001b[0m\u001b[0;34m\u001b[0m\u001b[0m\n\u001b[1;32m     85\u001b[0m         \u001b[0;31m#return Impl1().search_sorted_array(array, val)\u001b[0m\u001b[0;34m\u001b[0m\u001b[0;34m\u001b[0m\u001b[0;34m\u001b[0m\u001b[0m\n\u001b[0;32m---> 86\u001b[0;31m         \u001b[0;32mreturn\u001b[0m \u001b[0mImpl2\u001b[0m\u001b[0;34m(\u001b[0m\u001b[0;34m)\u001b[0m\u001b[0;34m.\u001b[0m\u001b[0msearch_sorted_array\u001b[0m\u001b[0;34m(\u001b[0m\u001b[0marray\u001b[0m\u001b[0;34m,\u001b[0m \u001b[0mval\u001b[0m\u001b[0;34m)\u001b[0m\u001b[0;34m\u001b[0m\u001b[0;34m\u001b[0m\u001b[0m\n\u001b[0m\u001b[1;32m     87\u001b[0m \u001b[0;34m\u001b[0m\u001b[0m\n\u001b[1;32m     88\u001b[0m \u001b[0;34m\u001b[0m\u001b[0m\n",
      "\u001b[0;32m/var/folders/z_/2myvzd8j2mn4pbc54x49l6z00000gn/T/ipykernel_53198/2085785146.py\u001b[0m in \u001b[0;36msearch_sorted_array\u001b[0;34m(self, array, val)\u001b[0m\n\u001b[1;32m     27\u001b[0m         \u001b[0mbegin\u001b[0m \u001b[0;34m=\u001b[0m \u001b[0;32mNone\u001b[0m\u001b[0;34m\u001b[0m\u001b[0;34m\u001b[0m\u001b[0m\n\u001b[1;32m     28\u001b[0m         \u001b[0mend\u001b[0m \u001b[0;34m=\u001b[0m \u001b[0;32mNone\u001b[0m\u001b[0;34m\u001b[0m\u001b[0;34m\u001b[0m\u001b[0m\n\u001b[0;32m---> 29\u001b[0;31m         \u001b[0;32mif\u001b[0m \u001b[0marray\u001b[0m\u001b[0;34m[\u001b[0m\u001b[0mstart\u001b[0m\u001b[0;34m]\u001b[0m \u001b[0;34m<=\u001b[0m \u001b[0mval\u001b[0m\u001b[0;34m:\u001b[0m\u001b[0;34m\u001b[0m\u001b[0;34m\u001b[0m\u001b[0m\n\u001b[0m\u001b[1;32m     30\u001b[0m             \u001b[0mbegin\u001b[0m \u001b[0;34m=\u001b[0m \u001b[0mstart\u001b[0m\u001b[0;34m\u001b[0m\u001b[0;34m\u001b[0m\u001b[0m\n\u001b[1;32m     31\u001b[0m             \u001b[0mend\u001b[0m \u001b[0;34m=\u001b[0m \u001b[0mlen\u001b[0m\u001b[0;34m(\u001b[0m\u001b[0marray\u001b[0m\u001b[0;34m)\u001b[0m \u001b[0;34m-\u001b[0m \u001b[0;36m1\u001b[0m\u001b[0;34m\u001b[0m\u001b[0;34m\u001b[0m\u001b[0m\n",
      "\u001b[0;31mTypeError\u001b[0m: list indices must be integers or slices, not NoneType"
     ]
    }
   ],
   "source": [
    "# %load test_search_sorted_array.py\n",
    "import unittest\n",
    "\n",
    "\n",
    "class TestArray(unittest.TestCase):\n",
    "\n",
    "    def test_search_sorted_array(self):\n",
    "        array = Array()\n",
    "        self.assertRaises(TypeError, array.search_sorted_array, None)\n",
    "        self.assertEqual(array.search_sorted_array([3, 1, 2], 0), None)\n",
    "        self.assertEqual(array.search_sorted_array([3, 1, 2], 0), None)\n",
    "        data = [10, 12, 14,  1,  3,  5,  6,  7,  8,  9]\n",
    "        self.assertEqual(array.search_sorted_array(data, val=1), 3)\n",
    "        data = [ 1,  1,  2,  1,  1,  1,  1,  1,  1,  1]\n",
    "        self.assertEqual(array.search_sorted_array(data, val=2), 2)\n",
    "        print('Success: test_search_sorted_array')\n",
    "\n",
    "\n",
    "def main():\n",
    "    test = TestArray()\n",
    "    test.test_search_sorted_array()\n",
    "\n",
    "\n",
    "if __name__ == '__main__':\n",
    "    main()"
   ]
  },
  {
   "cell_type": "markdown",
   "metadata": {},
   "source": [
    "## Solution Notebook\n",
    "\n",
    "Review the [Solution Notebook]() for a discussion on algorithms and code solutions."
   ]
  }
 ],
 "metadata": {
  "kernelspec": {
   "display_name": "Python 3 (ipykernel)",
   "language": "python",
   "name": "python3"
  },
  "language_info": {
   "codemirror_mode": {
    "name": "ipython",
    "version": 3
   },
   "file_extension": ".py",
   "mimetype": "text/x-python",
   "name": "python",
   "nbconvert_exporter": "python",
   "pygments_lexer": "ipython3",
   "version": "3.9.6"
  }
 },
 "nbformat": 4,
 "nbformat_minor": 4
}

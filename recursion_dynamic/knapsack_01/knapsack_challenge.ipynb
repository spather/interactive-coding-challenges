{
 "cells": [
  {
   "cell_type": "markdown",
   "metadata": {},
   "source": [
    "This notebook was prepared by [Donne Martin](https://github.com/donnemartin). Source and license info is on [GitHub](https://github.com/donnemartin/interactive-coding-challenges)."
   ]
  },
  {
   "cell_type": "markdown",
   "metadata": {},
   "source": [
    "# Challenge Notebook"
   ]
  },
  {
   "cell_type": "markdown",
   "metadata": {},
   "source": [
    "## Problem: Given a knapsack with a total weight capacity and a list of items with weight w(i) and value v(i), determine which items to select to maximize total value.\n",
    "\n",
    "* [Constraints](#Constraints)\n",
    "* [Test Cases](#Test-Cases)\n",
    "* [Algorithm](#Algorithm)\n",
    "* [Code](#Code)\n",
    "* [Unit Test](#Unit-Test)\n",
    "* [Solution Notebook](#Solution-Notebook)"
   ]
  },
  {
   "cell_type": "markdown",
   "metadata": {},
   "source": [
    "## Constraints\n",
    "\n",
    "* Can we replace the items once they are placed in the knapsack?\n",
    "    * No, this is the 0/1 knapsack problem\n",
    "* Can we split an item?\n",
    "    * No\n",
    "* Can we get an input item with weight of 0 or value of 0?\n",
    "    * No\n",
    "* Can we assume the inputs are valid?\n",
    "    * No\n",
    "* Are the inputs in sorted order by val/weight?\n",
    "    * Yes, if not we'd need to sort them first\n",
    "* Can we assume this fits memory?\n",
    "    * Yes"
   ]
  },
  {
   "cell_type": "markdown",
   "metadata": {},
   "source": [
    "## Test Cases\n",
    "\n",
    "* items or total weight is None -> Exception\n",
    "* items or total weight is 0 -> 0\n",
    "* General case\n",
    "\n",
    "<pre>\n",
    "total_weight = 8\n",
    "items\n",
    "  v | w\n",
    "  0 | 0\n",
    "a 2 | 2\n",
    "b 4 | 2\n",
    "c 6 | 4\n",
    "d 9 | 5\n",
    "\n",
    "max value = 13\n",
    "items\n",
    "  v | w\n",
    "b 4 | 2\n",
    "d 9 | 5 \n",
    "</pre>"
   ]
  },
  {
   "cell_type": "markdown",
   "metadata": {},
   "source": [
    "## Algorithm\n",
    "\n",
    "Refer to the [Solution Notebook](http://nbviewer.jupyter.org/github/donnemartin/interactive-coding-challenges/blob/master/recursion_dynamic/knapsack_01/knapsack_solution.ipynb).  If you are stuck and need a hint, the solution notebook's algorithm discussion might be a good place to start."
   ]
  },
  {
   "cell_type": "markdown",
   "metadata": {},
   "source": [
    "## Code"
   ]
  },
  {
   "cell_type": "code",
   "execution_count": 9,
   "metadata": {
    "tags": []
   },
   "outputs": [],
   "source": [
    "class Item(object):\n",
    "\n",
    "    def __init__(self, label, value, weight):\n",
    "        self.label = label\n",
    "        self.value = value\n",
    "        self.weight = weight\n",
    "\n",
    "    def __repr__(self):\n",
    "        return self.label + ' v:' + str(self.value) + ' w:' + str(self.weight)"
   ]
  },
  {
   "cell_type": "code",
   "execution_count": 38,
   "metadata": {},
   "outputs": [],
   "source": [
    "class Result(object):\n",
    "\n",
    "    def __init__(self, items=[]):\n",
    "        self.items = items\n",
    "        self.total_value = 0\n",
    "        for item in self.items:\n",
    "            self.total_value += item.value\n",
    "    \n",
    "    def __repr__(self):\n",
    "        return \"[{}]: {}\".format(\",\".join([str(item) for item in self.items]), self.total_value)\n",
    "         \n",
    "         \n",
    "class Knapsack(object):\n",
    "\n",
    "    def fill_knapsack(self, input_items, total_weight):\n",
    "        if input_items is None or total_weight is None:\n",
    "            raise TypeError(\"inputs can't be None\")\n",
    "        if input_items == 0 or len(input_items) == 0 or total_weight == 0:\n",
    "            return 0\n",
    "        \n",
    "        table = []\n",
    "        for i in range(0, len(input_items)+1):\n",
    "            table.append([ Result() ] * (total_weight + 1))\n",
    "            \n",
    "        for i in range(1, len(input_items)+1):\n",
    "            row = table[i]\n",
    "            item = input_items[i-1]\n",
    "            for j in range(1, total_weight+1):\n",
    "                if item.weight > j:\n",
    "                    row[j] = table[i-1][j]\n",
    "                else: \n",
    "                    remaining_capacity_result = table[i-1][max(j - item.weight, 0)]\n",
    "                    include_value = item.value + remaining_capacity_result.total_value\n",
    "                    not_include_value = table[i-1][j].total_value\n",
    "                    if include_value > not_include_value:\n",
    "                        row[j] = Result([item] + remaining_capacity_result.items)\n",
    "                    else: \n",
    "                        row[j] = table[i-1][j]\n",
    "        print(table)\n",
    "        return table[len(input_items)][total_weight].items\n"
   ]
  },
  {
   "cell_type": "markdown",
   "metadata": {},
   "source": [
    "## Unit Test"
   ]
  },
  {
   "cell_type": "markdown",
   "metadata": {},
   "source": [
    "**The following unit test is expected to fail until you solve the challenge.**"
   ]
  },
  {
   "cell_type": "code",
   "execution_count": 39,
   "metadata": {},
   "outputs": [
    {
     "name": "stdout",
     "output_type": "stream",
     "text": [
      "[[[]: 0, []: 0, []: 0, []: 0, []: 0, []: 0, []: 0, []: 0, []: 0], [[]: 0, []: 0, [a v:2 w:2]: 2, [a v:2 w:2]: 2, [a v:2 w:2]: 2, [a v:2 w:2]: 2, [a v:2 w:2]: 2, [a v:2 w:2]: 2, [a v:2 w:2]: 2], [[]: 0, []: 0, [b v:4 w:2]: 4, [b v:4 w:2]: 4, [b v:4 w:2,a v:2 w:2]: 6, [b v:4 w:2,a v:2 w:2]: 6, [b v:4 w:2,a v:2 w:2]: 6, [b v:4 w:2,a v:2 w:2]: 6, [b v:4 w:2,a v:2 w:2]: 6], [[]: 0, []: 0, [b v:4 w:2]: 4, [b v:4 w:2]: 4, [b v:4 w:2,a v:2 w:2]: 6, [b v:4 w:2,a v:2 w:2]: 6, [c v:6 w:4,b v:4 w:2]: 10, [c v:6 w:4,b v:4 w:2]: 10, [c v:6 w:4,b v:4 w:2,a v:2 w:2]: 12], [[]: 0, []: 0, [b v:4 w:2]: 4, [b v:4 w:2]: 4, [b v:4 w:2,a v:2 w:2]: 6, [d v:9 w:5]: 9, [c v:6 w:4,b v:4 w:2]: 10, [d v:9 w:5,b v:4 w:2]: 13, [d v:9 w:5,b v:4 w:2]: 13]]\n",
      "Got  [d v:9 w:5, b v:4 w:2]\n",
      "Success: test_knapsack_bottom_up\n"
     ]
    },
    {
     "ename": "NameError",
     "evalue": "name 'KnapsackTopDown' is not defined",
     "output_type": "error",
     "traceback": [
      "\u001b[0;31m---------------------------------------------------------------------------\u001b[0m",
      "\u001b[0;31mNameError\u001b[0m                                 Traceback (most recent call last)",
      "\u001b[0;32m/var/folders/z_/2myvzd8j2mn4pbc54x49l6z00000gn/T/ipykernel_89514/379818645.py\u001b[0m in \u001b[0;36m<module>\u001b[0;34m\u001b[0m\n\u001b[1;32m     47\u001b[0m \u001b[0;34m\u001b[0m\u001b[0m\n\u001b[1;32m     48\u001b[0m \u001b[0;32mif\u001b[0m \u001b[0m__name__\u001b[0m \u001b[0;34m==\u001b[0m \u001b[0;34m'__main__'\u001b[0m\u001b[0;34m:\u001b[0m\u001b[0;34m\u001b[0m\u001b[0;34m\u001b[0m\u001b[0m\n\u001b[0;32m---> 49\u001b[0;31m     \u001b[0mmain\u001b[0m\u001b[0;34m(\u001b[0m\u001b[0;34m)\u001b[0m\u001b[0;34m\u001b[0m\u001b[0;34m\u001b[0m\u001b[0m\n\u001b[0m",
      "\u001b[0;32m/var/folders/z_/2myvzd8j2mn4pbc54x49l6z00000gn/T/ipykernel_89514/379818645.py\u001b[0m in \u001b[0;36mmain\u001b[0;34m()\u001b[0m\n\u001b[1;32m     43\u001b[0m     \u001b[0mtest\u001b[0m \u001b[0;34m=\u001b[0m \u001b[0mTestKnapsack\u001b[0m\u001b[0;34m(\u001b[0m\u001b[0;34m)\u001b[0m\u001b[0;34m\u001b[0m\u001b[0;34m\u001b[0m\u001b[0m\n\u001b[1;32m     44\u001b[0m     \u001b[0mtest\u001b[0m\u001b[0;34m.\u001b[0m\u001b[0mtest_knapsack_bottom_up\u001b[0m\u001b[0;34m(\u001b[0m\u001b[0;34m)\u001b[0m\u001b[0;34m\u001b[0m\u001b[0;34m\u001b[0m\u001b[0m\n\u001b[0;32m---> 45\u001b[0;31m     \u001b[0mtest\u001b[0m\u001b[0;34m.\u001b[0m\u001b[0mtest_knapsack_top_down\u001b[0m\u001b[0;34m(\u001b[0m\u001b[0;34m)\u001b[0m\u001b[0;34m\u001b[0m\u001b[0;34m\u001b[0m\u001b[0m\n\u001b[0m\u001b[1;32m     46\u001b[0m \u001b[0;34m\u001b[0m\u001b[0m\n\u001b[1;32m     47\u001b[0m \u001b[0;34m\u001b[0m\u001b[0m\n",
      "\u001b[0;32m/var/folders/z_/2myvzd8j2mn4pbc54x49l6z00000gn/T/ipykernel_89514/379818645.py\u001b[0m in \u001b[0;36mtest_knapsack_top_down\u001b[0;34m(self)\u001b[0m\n\u001b[1;32m     27\u001b[0m \u001b[0;34m\u001b[0m\u001b[0m\n\u001b[1;32m     28\u001b[0m     \u001b[0;32mdef\u001b[0m \u001b[0mtest_knapsack_top_down\u001b[0m\u001b[0;34m(\u001b[0m\u001b[0mself\u001b[0m\u001b[0;34m)\u001b[0m\u001b[0;34m:\u001b[0m\u001b[0;34m\u001b[0m\u001b[0;34m\u001b[0m\u001b[0m\n\u001b[0;32m---> 29\u001b[0;31m         \u001b[0mknapsack\u001b[0m \u001b[0;34m=\u001b[0m \u001b[0mKnapsackTopDown\u001b[0m\u001b[0;34m(\u001b[0m\u001b[0;34m)\u001b[0m\u001b[0;34m\u001b[0m\u001b[0;34m\u001b[0m\u001b[0m\n\u001b[0m\u001b[1;32m     30\u001b[0m         \u001b[0mself\u001b[0m\u001b[0;34m.\u001b[0m\u001b[0massertRaises\u001b[0m\u001b[0;34m(\u001b[0m\u001b[0mTypeError\u001b[0m\u001b[0;34m,\u001b[0m \u001b[0mknapsack\u001b[0m\u001b[0;34m.\u001b[0m\u001b[0mfill_knapsack\u001b[0m\u001b[0;34m,\u001b[0m \u001b[0;32mNone\u001b[0m\u001b[0;34m,\u001b[0m \u001b[0;32mNone\u001b[0m\u001b[0;34m)\u001b[0m\u001b[0;34m\u001b[0m\u001b[0;34m\u001b[0m\u001b[0m\n\u001b[1;32m     31\u001b[0m         \u001b[0mself\u001b[0m\u001b[0;34m.\u001b[0m\u001b[0massertEqual\u001b[0m\u001b[0;34m(\u001b[0m\u001b[0mknapsack\u001b[0m\u001b[0;34m.\u001b[0m\u001b[0mfill_knapsack\u001b[0m\u001b[0;34m(\u001b[0m\u001b[0;36m0\u001b[0m\u001b[0;34m,\u001b[0m \u001b[0;36m0\u001b[0m\u001b[0;34m)\u001b[0m\u001b[0;34m,\u001b[0m \u001b[0;36m0\u001b[0m\u001b[0;34m)\u001b[0m\u001b[0;34m\u001b[0m\u001b[0;34m\u001b[0m\u001b[0m\n",
      "\u001b[0;31mNameError\u001b[0m: name 'KnapsackTopDown' is not defined"
     ]
    }
   ],
   "source": [
    "# %load test_knapsack.py\n",
    "import unittest\n",
    "\n",
    "\n",
    "class TestKnapsack(unittest.TestCase):\n",
    "\n",
    "    def test_knapsack_bottom_up(self):\n",
    "        knapsack = Knapsack()\n",
    "        self.assertRaises(TypeError, knapsack.fill_knapsack, None, None)\n",
    "        self.assertEqual(knapsack.fill_knapsack(0, 0), 0)\n",
    "        items = []\n",
    "        items.append(Item(label='a', value=2, weight=2))\n",
    "        items.append(Item(label='b', value=4, weight=2))\n",
    "        items.append(Item(label='c', value=6, weight=4))\n",
    "        items.append(Item(label='d', value=9, weight=5))\n",
    "        total_weight = 8\n",
    "        expected_value = 13\n",
    "        results = knapsack.fill_knapsack(items, total_weight)\n",
    "        print(\"Got \", results)\n",
    "        self.assertEqual(results[0].label, 'd')\n",
    "        self.assertEqual(results[1].label, 'b')\n",
    "        total_value = 0\n",
    "        for item in results:\n",
    "            total_value += item.value\n",
    "        self.assertEqual(total_value, expected_value)\n",
    "        print('Success: test_knapsack_bottom_up')\n",
    "\n",
    "    def test_knapsack_top_down(self):\n",
    "        knapsack = KnapsackTopDown()\n",
    "        self.assertRaises(TypeError, knapsack.fill_knapsack, None, None)\n",
    "        self.assertEqual(knapsack.fill_knapsack(0, 0), 0)\n",
    "        items = []\n",
    "        items.append(Item(label='a', value=2, weight=2))\n",
    "        items.append(Item(label='b', value=4, weight=2))\n",
    "        items.append(Item(label='c', value=6, weight=4))\n",
    "        items.append(Item(label='d', value=9, weight=5))\n",
    "        total_weight = 8\n",
    "        expected_value = 13\n",
    "        self.assertEqual(knapsack.fill_knapsack(items, total_weight), expected_value)\n",
    "        print('Success: test_knapsack_top_down')\n",
    "\n",
    "def main():\n",
    "    test = TestKnapsack()\n",
    "    test.test_knapsack_bottom_up()\n",
    "    test.test_knapsack_top_down()\n",
    "\n",
    "\n",
    "if __name__ == '__main__':\n",
    "    main()"
   ]
  },
  {
   "cell_type": "markdown",
   "metadata": {},
   "source": [
    "## Solution Notebook\n",
    "\n",
    "Review the [Solution Notebook]() for a discussion on algorithms and code solutions."
   ]
  }
 ],
 "metadata": {
  "kernelspec": {
   "display_name": "Python 3 (ipykernel)",
   "language": "python",
   "name": "python3"
  },
  "language_info": {
   "codemirror_mode": {
    "name": "ipython",
    "version": 3
   },
   "file_extension": ".py",
   "mimetype": "text/x-python",
   "name": "python",
   "nbconvert_exporter": "python",
   "pygments_lexer": "ipython3",
   "version": "3.9.6"
  }
 },
 "nbformat": 4,
 "nbformat_minor": 4
}

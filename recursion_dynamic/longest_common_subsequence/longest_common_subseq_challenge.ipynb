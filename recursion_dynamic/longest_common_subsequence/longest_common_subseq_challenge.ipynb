{
 "cells": [
  {
   "cell_type": "markdown",
   "metadata": {},
   "source": [
    "This notebook was prepared by [Donne Martin](https://github.com/donnemartin). Source and license info is on [GitHub](https://github.com/donnemartin/interactive-coding-challenges)."
   ]
  },
  {
   "cell_type": "markdown",
   "metadata": {},
   "source": [
    "# Challenge Notebook"
   ]
  },
  {
   "cell_type": "markdown",
   "metadata": {},
   "source": [
    "## Problem: Given two strings, find the longest common subsequence.\n",
    "\n",
    "* [Constraints](#Constraints)\n",
    "* [Test Cases](#Test-Cases)\n",
    "* [Algorithm](#Algorithm)\n",
    "* [Code](#Code)\n",
    "* [Unit Test](#Unit-Test)\n",
    "* [Solution Notebook](#Solution-Notebook)"
   ]
  },
  {
   "cell_type": "markdown",
   "metadata": {},
   "source": [
    "## Constraints\n",
    "\n",
    "* Can we assume the inputs are valid?\n",
    "    * No\n",
    "* Can we assume the strings are ASCII?\n",
    "    * Yes\n",
    "* Is this case sensitive?\n",
    "    * Yes\n",
    "* Is a subsequence a non-contiguous block of chars?\n",
    "    * Yes\n",
    "* Do we expect a string as a result?\n",
    "    * Yes\n",
    "* Can we assume this fits memory?\n",
    "    * Yes"
   ]
  },
  {
   "cell_type": "markdown",
   "metadata": {},
   "source": [
    "## Test Cases\n",
    "\n",
    "* str0 or str1 is None -> Exception\n",
    "* str0 or str1 equals 0 -> ''\n",
    "* General case\n",
    "\n",
    "str0 = 'ABCDEFGHIJ'\n",
    "str1 = 'FOOBCDBCDE'\n",
    "\n",
    "result: 'BCDE'"
   ]
  },
  {
   "cell_type": "markdown",
   "metadata": {},
   "source": [
    "## Algorithm\n",
    "\n",
    "Refer to the [Solution Notebook]().  If you are stuck and need a hint, the solution notebook's algorithm discussion might be a good place to start."
   ]
  },
  {
   "cell_type": "markdown",
   "metadata": {},
   "source": [
    "## Code"
   ]
  },
  {
   "cell_type": "code",
   "execution_count": 7,
   "metadata": {},
   "outputs": [],
   "source": [
    "class StringCompare(object):\n",
    "\n",
    "    def longest_common_subseq(self, str0, str1):\n",
    "        if str0 is None or str1 is None:\n",
    "            raise TypeError(\"strings can't be None\")\n",
    "        if len(str0) == 0 or len(str1) == 0:\n",
    "            return \"\"\n",
    "        \n",
    "        lcs = [\n",
    "            [ 1 if c0 == str1[0] else 0 for c0 in str0 ]\n",
    "        ]\n",
    "        maxl = max(lcs[0])\n",
    "        max_coords = 0, lcs[0].index(maxl)\n",
    "        \n",
    "        for i in range(1, len(str1)):\n",
    "            c1 = str1[i]\n",
    "            row = [0] * len(str0)\n",
    "            for j in range(0, len(str0)):\n",
    "                c0 = str0[j]\n",
    "                if c0 == c1:\n",
    "                    up_left = lcs[i-1][j-1] if j > 1 else 0\n",
    "                    row[j] = up_left + 1\n",
    "                else: \n",
    "                    row[j] = 0\n",
    "                if row[j] > maxl:\n",
    "                    maxl = row[j]\n",
    "                    max_coords = i, j\n",
    "            lcs.append(row)\n",
    "            \n",
    "        if max == 0:\n",
    "            return \"\"\n",
    "        else: \n",
    "            return str0[max_coords[1]-maxl+1:max_coords[1]+1]\n",
    "                \n",
    "            \n",
    "        "
   ]
  },
  {
   "cell_type": "markdown",
   "metadata": {},
   "source": [
    "## Unit Test"
   ]
  },
  {
   "cell_type": "markdown",
   "metadata": {},
   "source": [
    "**The following unit test is expected to fail until you solve the challenge.**"
   ]
  },
  {
   "cell_type": "code",
   "execution_count": 8,
   "metadata": {},
   "outputs": [
    {
     "name": "stdout",
     "output_type": "stream",
     "text": [
      "Success: test_longest_common_subseq\n"
     ]
    }
   ],
   "source": [
    "# %load test_longest_common_subseq.py\n",
    "import unittest\n",
    "\n",
    "\n",
    "class TestLongestCommonSubseq(unittest.TestCase):\n",
    "\n",
    "    def test_longest_common_subseq(self):\n",
    "        str_comp = StringCompare()\n",
    "        self.assertRaises(TypeError, str_comp.longest_common_subseq, None, None)\n",
    "        self.assertEqual(str_comp.longest_common_subseq('', ''), '')\n",
    "        str0 = 'ABCDEFGHIJ'\n",
    "        str1 = 'FOOBCDBCDE'\n",
    "        expected = 'BCDE'\n",
    "        self.assertEqual(str_comp.longest_common_subseq(str0, str1), expected)\n",
    "        print('Success: test_longest_common_subseq')\n",
    "\n",
    "\n",
    "def main():\n",
    "    test = TestLongestCommonSubseq()\n",
    "    test.test_longest_common_subseq()\n",
    "\n",
    "\n",
    "if __name__ == '__main__':\n",
    "    main()"
   ]
  },
  {
   "cell_type": "markdown",
   "metadata": {},
   "source": [
    "## Solution Notebook\n",
    "\n",
    "Review the [Solution Notebook]() for a discussion on algorithms and code solutions."
   ]
  }
 ],
 "metadata": {
  "kernelspec": {
   "display_name": "Python 3 (ipykernel)",
   "language": "python",
   "name": "python3"
  },
  "language_info": {
   "codemirror_mode": {
    "name": "ipython",
    "version": 3
   },
   "file_extension": ".py",
   "mimetype": "text/x-python",
   "name": "python",
   "nbconvert_exporter": "python",
   "pygments_lexer": "ipython3",
   "version": "3.9.6"
  }
 },
 "nbformat": 4,
 "nbformat_minor": 4
}

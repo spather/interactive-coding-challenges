{
 "cells": [
  {
   "cell_type": "markdown",
   "metadata": {},
   "source": [
    "This notebook was prepared by [Donne Martin](https://github.com/donnemartin). Source and license info is on [GitHub](https://github.com/donnemartin/interactive-coding-challenges)."
   ]
  },
  {
   "cell_type": "markdown",
   "metadata": {},
   "source": [
    "# Challenge Notebook"
   ]
  },
  {
   "cell_type": "markdown",
   "metadata": {},
   "source": [
    "## Problem: Create a binary search tree with minimal height from a sorted array.\n",
    "\n",
    "* [Constraints](#Constraints)\n",
    "* [Test Cases](#Test-Cases)\n",
    "* [Algorithm](#Algorithm)\n",
    "* [Code](#Code)\n",
    "* [Unit Test](#Unit-Test)\n",
    "* [Solution Notebook](#Solution-Notebook)"
   ]
  },
  {
   "cell_type": "markdown",
   "metadata": {},
   "source": [
    "## Constraints\n",
    "\n",
    "* Is the array in increasing order?\n",
    "    * Yes\n",
    "* Are the array elements unique?\n",
    "    * Yes\n",
    "* Can we assume we already have a Node class with an insert method?\n",
    "    * Yes\n",
    "* Can we assume this fits memory?\n",
    "    * Yes"
   ]
  },
  {
   "cell_type": "markdown",
   "metadata": {},
   "source": [
    "## Test Cases\n",
    "\n",
    "* 0, 1, 2, 3, 4, 5, 6 -> height 3\n",
    "* 0, 1, 2, 3, 4, 5, 6, 7 -> height 4"
   ]
  },
  {
   "cell_type": "markdown",
   "metadata": {},
   "source": [
    "## Algorithm\n",
    "\n",
    "Refer to the [Solution Notebook](http://nbviewer.ipython.org/github/donnemartin/interactive-coding-challenges/blob/master/graphs_trees/bst_min/bst_min_solution.ipynb).  If you are stuck and need a hint, the solution notebook's algorithm discussion might be a good place to start."
   ]
  },
  {
   "cell_type": "markdown",
   "metadata": {},
   "source": [
    "## Code"
   ]
  },
  {
   "cell_type": "code",
   "execution_count": null,
   "metadata": {
    "collapsed": true,
    "jupyter": {
     "outputs_hidden": true
    }
   },
   "outputs": [],
   "source": [
    "%run ../bst/bst.py\n",
    "%load ../bst/bst.py"
   ]
  },
  {
   "cell_type": "code",
   "execution_count": 20,
   "metadata": {},
   "outputs": [],
   "source": [
    "from math import floor\n",
    "\n",
    "class Node(object):\n",
    "\n",
    "    def __init__(self, data):\n",
    "        self.data = data\n",
    "        self.left = None\n",
    "        self.right = None\n",
    "\n",
    "class MinBst(object):\n",
    "\n",
    "    def create_min_bst(self, array):\n",
    "        return self.__create_min_bst(array, 0, len(array))\n",
    "        \n",
    "    def __create_min_bst(self, array, start, length): \n",
    "        if array is None or length == 0:\n",
    "            return None\n",
    "        if length == 1:\n",
    "            return Node(array[start])\n",
    "        mid = start + floor(length/2)\n",
    "        node = Node(array[mid])\n",
    "        node.left = self.__create_min_bst(array, start, mid-start)\n",
    "        node.right = self.__create_min_bst(array, mid+1, start + length - mid - 1)\n",
    "        return node    \n",
    "    \n",
    "    "
   ]
  },
  {
   "cell_type": "markdown",
   "metadata": {},
   "source": [
    "## Unit Test"
   ]
  },
  {
   "cell_type": "markdown",
   "metadata": {},
   "source": [
    "**The following unit test is expected to fail until you solve the challenge.**"
   ]
  },
  {
   "cell_type": "code",
   "execution_count": 21,
   "metadata": {},
   "outputs": [
    {
     "name": "stdout",
     "output_type": "stream",
     "text": [
      "start = 0, mid = 3, length = 7\n",
      "start = 0, mid = 1, length = 3\n",
      "start = 4, mid = 5, length = 3\n",
      "start = 0, mid = 4, length = 8\n",
      "start = 0, mid = 2, length = 4\n",
      "start = 0, mid = 1, length = 2\n",
      "start = 5, mid = 6, length = 3\n",
      "Success: test_bst_min\n"
     ]
    }
   ],
   "source": [
    "# %load test_bst_min.py\n",
    "import unittest\n",
    "\n",
    "\n",
    "def height(node):\n",
    "    if node is None:\n",
    "        return 0\n",
    "    return 1 + max(height(node.left),\n",
    "                   height(node.right))\n",
    "\n",
    "\n",
    "class TestBstMin(unittest.TestCase):\n",
    "\n",
    "    def test_bst_min(self):\n",
    "        min_bst = MinBst()\n",
    "        array = [0, 1, 2, 3, 4, 5, 6]\n",
    "        root = min_bst.create_min_bst(array)\n",
    "        self.assertEqual(height(root), 3)\n",
    "\n",
    "        min_bst = MinBst()\n",
    "        array = [0, 1, 2, 3, 4, 5, 6, 7]\n",
    "        root = min_bst.create_min_bst(array)\n",
    "        self.assertEqual(height(root), 4)\n",
    "\n",
    "        print('Success: test_bst_min')\n",
    "\n",
    "\n",
    "def main():\n",
    "    test = TestBstMin()\n",
    "    test.test_bst_min()\n",
    "\n",
    "\n",
    "if __name__ == '__main__':\n",
    "    main()"
   ]
  },
  {
   "cell_type": "markdown",
   "metadata": {},
   "source": [
    "## Solution Notebook\n",
    "\n",
    "Review the [Solution Notebook](http://nbviewer.ipython.org/github/donnemartin/interactive-coding-challenges/blob/master/graphs_trees/bst_min/bst_min_solution.ipynb) for a discussion on algorithms and code solutions."
   ]
  }
 ],
 "metadata": {
  "kernelspec": {
   "display_name": "Python 3 (ipykernel)",
   "language": "python",
   "name": "python3"
  },
  "language_info": {
   "codemirror_mode": {
    "name": "ipython",
    "version": 3
   },
   "file_extension": ".py",
   "mimetype": "text/x-python",
   "name": "python",
   "nbconvert_exporter": "python",
   "pygments_lexer": "ipython3",
   "version": "3.9.6"
  }
 },
 "nbformat": 4,
 "nbformat_minor": 4
}

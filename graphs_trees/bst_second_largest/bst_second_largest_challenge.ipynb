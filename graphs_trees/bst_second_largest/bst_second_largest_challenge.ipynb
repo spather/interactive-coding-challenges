{
 "cells": [
  {
   "cell_type": "markdown",
   "metadata": {},
   "source": [
    "This notebook was prepared by [Donne Martin](https://github.com/donnemartin). Source and license info is on [GitHub](https://github.com/donnemartin/interactive-coding-challenges)."
   ]
  },
  {
   "cell_type": "markdown",
   "metadata": {},
   "source": [
    "# Challenge Notebook"
   ]
  },
  {
   "cell_type": "markdown",
   "metadata": {},
   "source": [
    "## Problem: Find the second largest node in a binary search tree.\n",
    "\n",
    "* [Constraints](#Constraints)\n",
    "* [Test Cases](#Test-Cases)\n",
    "* [Algorithm](#Algorithm)\n",
    "* [Code](#Code)\n",
    "* [Unit Test](#Unit-Test)\n",
    "* [Solution Notebook](#Solution-Notebook)"
   ]
  },
  {
   "cell_type": "markdown",
   "metadata": {},
   "source": [
    "## Constraints\n",
    "\n",
    "* If this is called on a None input or a single node, should we raise an exception?\n",
    "    * Yes\n",
    "        * None -> TypeError\n",
    "        * Single node -> ValueError\n",
    "* Can we assume we already have a Node class with an insert method?\n",
    "    * Yes\n",
    "* Can we assume this fits memory?\n",
    "    * Yes"
   ]
  },
  {
   "cell_type": "markdown",
   "metadata": {},
   "source": [
    "## Test Cases\n",
    "\n",
    "* None or single node -> Exception\n",
    "\n",
    "<pre>\n",
    "Input:\n",
    "                _10_\n",
    "              _/    \\_          \n",
    "             5        15\n",
    "            / \\       / \\\n",
    "           3   8     12  20\n",
    "          /     \\         \\\n",
    "         2       4        30\n",
    "\n",
    "Output: 20\n",
    "\n",
    "Input:\n",
    "                 10\n",
    "                 /  \n",
    "                5\n",
    "               / \\\n",
    "              3   7\n",
    "Output: 7\n",
    "</pre>"
   ]
  },
  {
   "cell_type": "markdown",
   "metadata": {},
   "source": [
    "## Algorithm\n",
    "\n",
    "Refer to the [Solution Notebook](http://nbviewer.ipython.org/github/donnemartin/interactive-coding-challenges/blob/master/graphs_trees/bst_second_largest/bst_second_largest_solution.ipynb).  If you are stuck and need a hint, the solution notebook's algorithm discussion might be a good place to start."
   ]
  },
  {
   "cell_type": "markdown",
   "metadata": {},
   "source": [
    "## Code"
   ]
  },
  {
   "cell_type": "code",
   "execution_count": 3,
   "metadata": {
    "tags": []
   },
   "outputs": [],
   "source": [
    "# %load ../bst/bst.py\n",
    "class Node(object):\n",
    "\n",
    "    def __init__(self, data):\n",
    "        self.data = data\n",
    "        self.left = None\n",
    "        self.right = None\n",
    "        self.parent = None\n",
    "\n",
    "    def __repr__(self):\n",
    "        return str(self.data)\n",
    "\n",
    "\n",
    "class Bst(object):\n",
    "\n",
    "    def __init__(self, root=None):\n",
    "        self.root = root\n",
    "\n",
    "    def insert(self, data):\n",
    "        if data is None:\n",
    "            raise TypeError('data cannot be None')\n",
    "        if self.root is None:\n",
    "            self.root = Node(data)\n",
    "            return self.root\n",
    "        else:\n",
    "            return self._insert(self.root, data)\n",
    "\n",
    "    def _insert(self, node, data):\n",
    "        if node is None:\n",
    "            return Node(data)\n",
    "        if data <= node.data:\n",
    "            if node.left is None:\n",
    "                node.left = self._insert(node.left, data)\n",
    "                node.left.parent = node\n",
    "                return node.left\n",
    "            else:\n",
    "                return self._insert(node.left, data)\n",
    "        else:\n",
    "            if node.right is None:\n",
    "                node.right = self._insert(node.right, data)\n",
    "                node.right.parent = node\n",
    "                return node.right\n",
    "            else:\n",
    "                return self._insert(node.right, data)\n"
   ]
  },
  {
   "cell_type": "code",
   "execution_count": 6,
   "metadata": {},
   "outputs": [],
   "source": [
    "class Solution(Bst):\n",
    "\n",
    "    def find_second_largest(self):\n",
    "        if self.root is None: \n",
    "            raise TypeError(\"root node is None\")\n",
    "        \n",
    "        if self.root.left is None and self.root.right is None:\n",
    "            raise ValueError(\"tree has just one node\")\n",
    "        \n",
    "        second = None\n",
    "        largest = self.root\n",
    "                     \n",
    "        cur = self.root\n",
    "        while cur.left is not None or cur.right is not None:\n",
    "            if cur.right is not None:\n",
    "                if cur.right.data > largest.data: \n",
    "                    second = largest\n",
    "                    largest = cur.right\n",
    "                elif cur.right.data > second.data:\n",
    "                    second = cur.right\n",
    "                cur = cur.right             \n",
    "            elif cur.left is not None:\n",
    "                second = cur.left\n",
    "                cur = cur.left\n",
    "                             \n",
    "        return second\n",
    "        "
   ]
  },
  {
   "cell_type": "markdown",
   "metadata": {},
   "source": [
    "## Unit Test"
   ]
  },
  {
   "cell_type": "markdown",
   "metadata": {},
   "source": [
    "**The following unit test is expected to fail until you solve the challenge.**"
   ]
  },
  {
   "cell_type": "code",
   "execution_count": 7,
   "metadata": {},
   "outputs": [
    {
     "name": "stdout",
     "output_type": "stream",
     "text": [
      "Success: test_bst_second_largest\n"
     ]
    }
   ],
   "source": [
    "# %load test_bst_second_largest.py\n",
    "import unittest\n",
    "\n",
    "\n",
    "class TestBstSecondLargest(unittest.TestCase):\n",
    "\n",
    "    def test_bst_second_largest(self):\n",
    "        bst = Solution(None)\n",
    "        self.assertRaises(TypeError, bst.find_second_largest)\n",
    "        root = Node(10)\n",
    "        bst = Solution(root)\n",
    "        node5 = bst.insert(5)\n",
    "        node15 = bst.insert(15)\n",
    "        node3 = bst.insert(3)\n",
    "        node8 = bst.insert(8)\n",
    "        node12 = bst.insert(12)\n",
    "        node20 = bst.insert(20)\n",
    "        node2 = bst.insert(2)\n",
    "        node4 = bst.insert(4)\n",
    "        node30 = bst.insert(30)\n",
    "        self.assertEqual(bst.find_second_largest(), node20)\n",
    "        root = Node(10)\n",
    "        bst = Solution(root)\n",
    "        node5 = bst.insert(5)\n",
    "        node3 = bst.insert(3)\n",
    "        node7 = bst.insert(7)\n",
    "        self.assertEqual(bst.find_second_largest(), node7)\n",
    "        print('Success: test_bst_second_largest')\n",
    "\n",
    "\n",
    "def main():\n",
    "    test = TestBstSecondLargest()\n",
    "    test.test_bst_second_largest()\n",
    "\n",
    "\n",
    "if __name__ == '__main__':\n",
    "    main()"
   ]
  },
  {
   "cell_type": "markdown",
   "metadata": {},
   "source": [
    "## Solution Notebook\n",
    "\n",
    "Review the [Solution Notebook](http://nbviewer.ipython.org/github/donnemartin/interactive-coding-challenges/blob/master/graphs_trees/check_balance/check_balance_solution.ipynb) for a discussion on algorithms and code solutions."
   ]
  }
 ],
 "metadata": {
  "kernelspec": {
   "display_name": "Python 3 (ipykernel)",
   "language": "python",
   "name": "python3"
  },
  "language_info": {
   "codemirror_mode": {
    "name": "ipython",
    "version": 3
   },
   "file_extension": ".py",
   "mimetype": "text/x-python",
   "name": "python",
   "nbconvert_exporter": "python",
   "pygments_lexer": "ipython3",
   "version": "3.9.6"
  }
 },
 "nbformat": 4,
 "nbformat_minor": 4
}

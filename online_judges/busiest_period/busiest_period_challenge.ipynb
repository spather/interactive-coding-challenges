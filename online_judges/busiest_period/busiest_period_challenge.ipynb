{
 "cells": [
  {
   "cell_type": "markdown",
   "metadata": {},
   "source": [
    "This notebook was prepared by [Donne Martin](https://github.com/donnemartin). Source and license info is on [GitHub](https://github.com/donnemartin/interactive-coding-challenges)."
   ]
  },
  {
   "cell_type": "markdown",
   "metadata": {},
   "source": [
    "# Challenge Notebook"
   ]
  },
  {
   "cell_type": "markdown",
   "metadata": {},
   "source": [
    "## Problem: Given an array of (unix_timestamp, num_people, EventType.ENTER or EventType.EXIT), find the busiest period.\n",
    "\n",
    "* [Constraints](#Constraints)\n",
    "* [Test Cases](#Test-Cases)\n",
    "* [Algorithm](#Algorithm)\n",
    "* [Code](#Code)\n",
    "* [Unit Test](#Unit-Test)\n",
    "* [Solution Notebook](#Solution-Notebook)"
   ]
  },
  {
   "cell_type": "markdown",
   "metadata": {},
   "source": [
    "## Constraints\n",
    "\n",
    "* Can we assume the input array is valid?\n",
    "    * Check for None\n",
    "* Can we assume the elements of the input array are valid?\n",
    "    * Yes\n",
    "* Is the input sorted by time?\n",
    "    * No\n",
    "* Can you have enter and exit elements for the same timestamp?\n",
    "    * Yes you can, order of enter and exit is not guaranteed\n",
    "* Could we have multiple enter events (or multiple exit events) for the same timestamp?\n",
    "    * No\n",
    "* What is the format of the output?\n",
    "    * An array of timestamps [t1, t2]\n",
    "* Can we assume the starting number of people is zero?\n",
    "    * Yes\n",
    "* Can we assume the inputs are valid?\n",
    "    * No\n",
    "* Can we assume this fits memory?\n",
    "    * Yes"
   ]
  },
  {
   "cell_type": "markdown",
   "metadata": {},
   "source": [
    "## Test Cases\n",
    "\n",
    "* None -> TypeError\n",
    "* [] -> None\n",
    "* General case\n",
    "\n",
    "<pre>\n",
    "timestamp  num_people  event_type\n",
    "1          2           EventType.ENTER\n",
    "3          1           EventType.ENTER\n",
    "3          2           EventType.EXIT\n",
    "7          3           EventType.ENTER\n",
    "8          2           EventType.EXIT\n",
    "9          2           EventType.EXIT\n",
    "\n",
    "result = Period(7, 8)\n",
    "</pre>"
   ]
  },
  {
   "cell_type": "markdown",
   "metadata": {},
   "source": [
    "## Algorithm\n",
    "\n",
    "Refer to the [Solution Notebook]().  If you are stuck and need a hint, the solution notebook's algorithm discussion might be a good place to start."
   ]
  },
  {
   "cell_type": "markdown",
   "metadata": {},
   "source": [
    "## Code"
   ]
  },
  {
   "cell_type": "code",
   "execution_count": 4,
   "metadata": {
    "tags": []
   },
   "outputs": [],
   "source": [
    "from enum import Enum\n",
    "\n",
    "\n",
    "class Data(object):\n",
    "\n",
    "    def __init__(self, timestamp, num_people, event_type):\n",
    "        self.timestamp = timestamp\n",
    "        self.num_people = num_people\n",
    "        self.event_type = event_type\n",
    "\n",
    "    def __lt__(self, other):\n",
    "        return self.timestamp < other.timestamp\n",
    "\n",
    "\n",
    "class Period(object):\n",
    "\n",
    "    def __init__(self, start, end):\n",
    "        self.start = start\n",
    "        self.end = end\n",
    "\n",
    "    def __eq__(self, other):\n",
    "        return self.start == other.start and self.end == other.end\n",
    "\n",
    "    def __repr__(self):\n",
    "        return str(self.start) + ', ' + str(self.end)\n",
    "\n",
    "\n",
    "class EventType(Enum):\n",
    "\n",
    "    ENTER = 0\n",
    "    EXIT = 1"
   ]
  },
  {
   "cell_type": "code",
   "execution_count": 29,
   "metadata": {},
   "outputs": [],
   "source": [
    "class Solution(object):\n",
    "\n",
    "    def find_max_subarray(self, array):\n",
    "        if array is None: \n",
    "            raise TypeError(\"array can't be None\")\n",
    "        if len(array) == 0:\n",
    "            return None\n",
    "        \n",
    "        max_sum = array[0]\n",
    "        max_s = 0\n",
    "        max_e = 0\n",
    "        cur_sum = array[0]\n",
    "        cur_s = 0\n",
    "        cur_e = 0\n",
    "    \n",
    "        \n",
    "        for i in range(1, len(array)):\n",
    "            print(\"before: i = {}, cur = ({}, {}), {} max = ({}, {}), {}\".format(i, cur_s, cur_e, cur_sum, max_s, max_e, max_sum))\n",
    "            cur_sum += array[i]\n",
    "            if cur_sum > 0:\n",
    "                cur_e = i\n",
    "                if cur_sum - array[cur_s] > cur_sum:\n",
    "                    cur_sum -= array[cur_s]\n",
    "                    cur_s += 1\n",
    "            else:\n",
    "                cur_s = i\n",
    "                cur_e = i\n",
    "                cur_sum = array[i]\n",
    "            if cur_sum > max_sum:\n",
    "                max_s = cur_s\n",
    "                max_e = cur_e\n",
    "                max_sum = cur_sum\n",
    "            print(\"after:  i = {}, cur = ({}, {}), {} max = ({}, {}), {}\".format(i, cur_s, cur_e, cur_sum, max_s, max_e, max_sum))\n",
    "\n",
    "        return max_s, max_e\n",
    "    \n",
    "    def find_busiest_period(self, data):\n",
    "        if data is None:\n",
    "            raise TypeError(\"data can't be none\")\n",
    "        if len(data) == 0:\n",
    "            return None\n",
    "        by_ts = {}\n",
    "        for entry in data:\n",
    "            print(\"looping\")\n",
    "            if entry.timestamp in by_ts:\n",
    "                by_ts[entry.timestamp] += entry.num_people * (1 if entry.event_type == EventType.ENTER else -1)\n",
    "                print(\"updated \", entry.timestamp)\n",
    "            else:\n",
    "                by_ts[entry.timestamp] = entry.num_people * (1 if entry.event_type == EventType.ENTER else -1)\n",
    "                print(\"added \", entry.timestamp)\n",
    "            \n",
    "        print(by_ts)\n",
    "        keys = [ *(by_ts.keys()) ]\n",
    "        keys.sort()\n",
    "\n",
    "        print(\"sorted keys is: {}\", keys)\n",
    "\n",
    "        array = [ by_ts[key] for key in keys ]\n",
    "\n",
    "        print(\"Final array is {}\".format(array))\n",
    "\n",
    "        [start, end] = self.find_max_subarray(array)\n",
    "        return Period(keys[start], keys[end])\n",
    "\n",
    "class Solution2(object):\n",
    "    \n",
    "    def find_busiest_period(self, data):\n",
    "        if data is None:\n",
    "            raise TypeError(\"data can't be none\")\n",
    "        if len(data) == 0:\n",
    "            return None\n",
    "        by_ts = {}\n",
    "        for entry in data:\n",
    "            print(\"looping\")\n",
    "            if entry.timestamp in by_ts:\n",
    "                by_ts[entry.timestamp] += entry.num_people * (1 if entry.event_type == EventType.ENTER else -1)\n",
    "                print(\"updated \", entry.timestamp)\n",
    "            else:\n",
    "                by_ts[entry.timestamp] = entry.num_people * (1 if entry.event_type == EventType.ENTER else -1)\n",
    "                print(\"added \", entry.timestamp)\n",
    "            \n",
    "        print(by_ts)\n",
    "        keys = [ *(by_ts.keys()) ]\n",
    "        keys.sort()\n",
    "\n",
    "        print(\"sorted keys is: {}\", keys)\n",
    "\n",
    "        sum = 0\n",
    "        sum_over_time = []\n",
    "        for k in keys:\n",
    "            sum_over_time.append(sum + by_ts[k])\n",
    "        \n",
    "        the_max = max(sum_over_time)\n",
    "        key = sum_over_time.index(the_max)\n",
    "        \n",
    "\n",
    "        return Period(keys[key], keys[key+1])\n",
    "\n",
    "        \n",
    "        \n",
    "        \n",
    "        \n",
    "        "
   ]
  },
  {
   "cell_type": "markdown",
   "metadata": {},
   "source": [
    "## Unit Test"
   ]
  },
  {
   "cell_type": "markdown",
   "metadata": {},
   "source": [
    "**The following unit test is expected to fail until you solve the challenge.**"
   ]
  },
  {
   "cell_type": "code",
   "execution_count": 30,
   "metadata": {},
   "outputs": [
    {
     "name": "stdout",
     "output_type": "stream",
     "text": [
      "looping\n",
      "added  3\n",
      "looping\n",
      "added  1\n",
      "looping\n",
      "updated  3\n",
      "looping\n",
      "added  7\n",
      "looping\n",
      "added  9\n",
      "looping\n",
      "added  8\n",
      "{3: -1, 1: 2, 7: 3, 9: -2, 8: -2}\n",
      "sorted keys is: {} [1, 3, 7, 8, 9]\n",
      "Success: test_find_busiest_period\n"
     ]
    }
   ],
   "source": [
    "# %load test_find_busiest_period.py\n",
    "import unittest\n",
    "\n",
    "\n",
    "class TestSolution(unittest.TestCase):\n",
    "\n",
    "    def test_find_busiest_period(self):\n",
    "        solution = Solution2()\n",
    "        self.assertRaises(TypeError, solution.find_busiest_period, None)\n",
    "        self.assertEqual(solution.find_busiest_period([]), None)\n",
    "        data = [\n",
    "            Data(3, 2, EventType.EXIT),\n",
    "            Data(1, 2, EventType.ENTER),\n",
    "            Data(3, 1, EventType.ENTER),\n",
    "            Data(7, 3, EventType.ENTER),\n",
    "            Data(9, 2, EventType.EXIT),\n",
    "            Data(8, 2, EventType.EXIT),\n",
    "        ]\n",
    "        self.assertEqual(solution.find_busiest_period(data), Period(7, 8))\n",
    "        print('Success: test_find_busiest_period')\n",
    "\n",
    "\n",
    "def main():\n",
    "    test = TestSolution()\n",
    "    test.test_find_busiest_period()\n",
    "\n",
    "\n",
    "if __name__ == '__main__':\n",
    "    main()"
   ]
  },
  {
   "cell_type": "markdown",
   "metadata": {},
   "source": [
    "## Solution Notebook\n",
    "\n",
    "Review the [Solution Notebook]() for a discussion on algorithms and code solutions."
   ]
  }
 ],
 "metadata": {
  "kernelspec": {
   "display_name": "Python 3 (ipykernel)",
   "language": "python",
   "name": "python3"
  },
  "language_info": {
   "codemirror_mode": {
    "name": "ipython",
    "version": 3
   },
   "file_extension": ".py",
   "mimetype": "text/x-python",
   "name": "python",
   "nbconvert_exporter": "python",
   "pygments_lexer": "ipython3",
   "version": "3.9.6"
  }
 },
 "nbformat": 4,
 "nbformat_minor": 4
}

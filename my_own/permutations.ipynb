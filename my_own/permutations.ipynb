{
 "cells": [
  {
   "cell_type": "code",
   "execution_count": 14,
   "id": "e7c5d234-ca50-4974-8e45-f4e7bc2ebf3c",
   "metadata": {},
   "outputs": [],
   "source": [
    "def print_perms2(string):\n",
    "    chars = [c for c in string]\n",
    "    \n",
    "    def internal(chars, start, end):\n",
    "        if start == end:\n",
    "            print(\"\".join(chars))\n",
    "        for i in range(start, end+1):\n",
    "            temp = chars[i]\n",
    "            chars[i] = chars[start]\n",
    "            chars[start] = temp\n",
    "            internal(chars, start+1, end)\n",
    "            temp = chars[i]\n",
    "            chars[i] = chars[start]\n",
    "            chars[start] = temp\n",
    "    \n",
    "    internal(chars, 0, len(string)-1)\n",
    "\n",
    "\n",
    "\n",
    "def print_perms(string):\n",
    "    def internal(prefix, rest):\n",
    "        # print(\"prefix == {}, rest == {}\".format(prefix, rest))\n",
    "        if len(rest) == 0:\n",
    "            print(prefix)\n",
    "        else:\n",
    "            for i in range(0, len(rest)):\n",
    "                internal(prefix + rest[i], \"\".join([ rest[j] for j in range(0, len(rest)) if j != i ]))\n",
    "    internal(\"\", string)    \n",
    "            "
   ]
  },
  {
   "cell_type": "code",
   "execution_count": null,
   "id": "ad6d0d56-be56-484b-b6db-73899a8ad67d",
   "metadata": {},
   "outputs": [],
   "source": [
    "print_perms('cathode')"
   ]
  },
  {
   "cell_type": "code",
   "execution_count": 16,
   "id": "3895c8c2-e476-4b67-8c07-209001097cae",
   "metadata": {},
   "outputs": [
    {
     "name": "stdout",
     "output_type": "stream",
     "text": [
      "catd\n",
      "cadt\n",
      "ctad\n",
      "ctda\n",
      "cdta\n",
      "cdat\n",
      "actd\n",
      "acdt\n",
      "atcd\n",
      "atdc\n",
      "adtc\n",
      "adct\n",
      "tacd\n",
      "tadc\n",
      "tcad\n",
      "tcda\n",
      "tdca\n",
      "tdac\n",
      "datc\n",
      "dact\n",
      "dtac\n",
      "dtca\n",
      "dcta\n",
      "dcat\n"
     ]
    }
   ],
   "source": [
    "print_perms2('catd')"
   ]
  },
  {
   "cell_type": "code",
   "execution_count": 7,
   "id": "60a1c0d8-eaad-4711-a4db-feb0b2198e94",
   "metadata": {},
   "outputs": [
    {
     "name": "stdout",
     "output_type": "stream",
     "text": [
      "hello\n"
     ]
    }
   ],
   "source": [
    "print('hello')"
   ]
  },
  {
   "cell_type": "code",
   "execution_count": null,
   "id": "60b3e6ec-657b-4e2e-a965-63f04bf7c49f",
   "metadata": {},
   "outputs": [],
   "source": []
  }
 ],
 "metadata": {
  "kernelspec": {
   "display_name": "Python 3 (ipykernel)",
   "language": "python",
   "name": "python3"
  },
  "language_info": {
   "codemirror_mode": {
    "name": "ipython",
    "version": 3
   },
   "file_extension": ".py",
   "mimetype": "text/x-python",
   "name": "python",
   "nbconvert_exporter": "python",
   "pygments_lexer": "ipython3",
   "version": "3.9.6"
  }
 },
 "nbformat": 4,
 "nbformat_minor": 5
}
